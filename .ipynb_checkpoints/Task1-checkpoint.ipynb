{
 "cells": [
  {
   "cell_type": "markdown",
   "metadata": {},
   "source": [
    "# Import Libraries"
   ]
  },
  {
   "cell_type": "code",
   "execution_count": 1,
   "metadata": {},
   "outputs": [],
   "source": [
    "import json\n",
    "import pandas as pd\n",
    "from pandas.io.json import json_normalize\n",
    "import requests\n",
    "import matplotlib.pyplot as plt"
   ]
  },
  {
   "cell_type": "markdown",
   "metadata": {},
   "source": [
    "# Load information related to orders"
   ]
  },
  {
   "cell_type": "code",
   "execution_count": 2,
   "metadata": {},
   "outputs": [],
   "source": [
    "#Load JSON file\n",
    "\n",
    "input_file = open ('orders.json')\n",
    "json_array = json.load(input_file)"
   ]
  },
  {
   "cell_type": "code",
   "execution_count": 3,
   "metadata": {},
   "outputs": [
    {
     "name": "stdout",
     "output_type": "stream",
     "text": [
      "   item_id  item_product_id item_product_sku              item_product_name  \\\n",
      "0   610448        632910392   PPLEPUNCH20-05  Purple Punch 2.0 Dried Flower   \n",
      "1   997208        278266679       GPSTASH-01   Grandpa's Stash Dried Flower   \n",
      "2   997208        278266679       GPSTASH-01   Grandpa's Stash Dried Flower   \n",
      "3   759658        573794972     SAGENSOUR-01       Sage N Sour Dried Flower   \n",
      "4   759658        573794972     SAGENSOUR-01       Sage N Sour Dried Flower   \n",
      "\n",
      "   item_price order_total_price      order_created_at          order_id  \\\n",
      "0       29.40             79.39  2020-03-07T14:31:11Z  8369263756632563   \n",
      "1       49.99             79.39  2020-03-07T14:31:11Z  8369263756632563   \n",
      "2       49.99             86.98  2020-03-01T09:16:30Z  7262170348080494   \n",
      "3       36.99             86.98  2020-03-01T09:16:30Z  7262170348080494   \n",
      "4       36.99             36.99  2020-01-01T09:17:03Z  7722055557038194   \n",
      "\n",
      "  order_customer.id  \n",
      "0             47178  \n",
      "1             47178  \n",
      "2             94720  \n",
      "3             94720  \n",
      "4             59933  \n",
      "item_id                int64\n",
      "item_product_id        int64\n",
      "item_product_sku      object\n",
      "item_product_name     object\n",
      "item_price           float64\n",
      "order_total_price     object\n",
      "order_created_at      object\n",
      "order_id              object\n",
      "order_customer.id     object\n",
      "dtype: object\n",
      "(37, 9)\n"
     ]
    }
   ],
   "source": [
    "# Flatten JSON file to create a dataframe\n",
    "\n",
    "df= pd.json_normalize(json_array,'line_items',['total_price','created_at','id',['customer','id']],meta_prefix='order_',record_prefix='item_')\n",
    "print(df.head())\n",
    "print(df.dtypes)\n",
    "print(df.shape)"
   ]
  },
  {
   "cell_type": "markdown",
   "metadata": {},
   "source": [
    "<b> Only used Customer ID from the customer related information as the rest of the data is not useful for the finance department to analyze sales results </b>\n"
   ]
  },
  {
   "cell_type": "code",
   "execution_count": 4,
   "metadata": {},
   "outputs": [
    {
     "name": "stdout",
     "output_type": "stream",
     "text": [
      "item_id                       int64\n",
      "item_product_id               int64\n",
      "item_product_sku             object\n",
      "item_product_name            object\n",
      "item_price                  float64\n",
      "order_total_price            object\n",
      "order_created_at     datetime64[ns]\n",
      "order_id                     object\n",
      "order_customer.id            object\n",
      "dtype: object\n"
     ]
    }
   ],
   "source": [
    "#Convert order date to datetime format and remove timestamp\n",
    "\n",
    "#df= pd.DataFrame(order_list)\n",
    "df['order_created_at'] =  pd.to_datetime(df['order_created_at'], format='%Y/%m/%d')\n",
    "df['order_created_at'] = df['order_created_at'].dt.date.astype('datetime64')\n",
    "print(df.dtypes)"
   ]
  },
  {
   "cell_type": "markdown",
   "metadata": {},
   "source": [
    "# Connect to API"
   ]
  },
  {
   "cell_type": "code",
   "execution_count": 5,
   "metadata": {},
   "outputs": [
    {
     "name": "stdout",
     "output_type": "stream",
     "text": [
      "200\n"
     ]
    }
   ],
   "source": [
    "#Test request status of API\n",
    "response = requests.get(\"https://api.exchangeratesapi.io/latest\")\n",
    "print(response.status_code)\n"
   ]
  },
  {
   "cell_type": "code",
   "execution_count": 6,
   "metadata": {},
   "outputs": [],
   "source": [
    "#Get exchange rate for Q1 of 2020 (From 2019-12-31 to 2020-04-30)\n",
    "\n",
    "response1 = requests.get(\"https://api.exchangeratesapi.io/history?start_at=2019-12-01&end_at=2020-04-30&base=USD&symbols=CAD\")\n",
    "price_list = json.loads(response1.text)\n",
    "#print(price_list)"
   ]
  },
  {
   "cell_type": "code",
   "execution_count": 7,
   "metadata": {},
   "outputs": [
    {
     "name": "stdout",
     "output_type": "stream",
     "text": [
      "          index                  rates    start_at base      end_at\n",
      "0    2019-12-02  {'CAD': 1.3295835979}  2019-12-01  USD  2020-04-30\n",
      "1    2019-12-03  {'CAD': 1.3320386596}  2019-12-01  USD  2020-04-30\n",
      "2    2019-12-04  {'CAD': 1.3272267846}  2019-12-01  USD  2020-04-30\n",
      "3    2019-12-05  {'CAD': 1.3169280692}  2019-12-01  USD  2020-04-30\n",
      "4    2019-12-06  {'CAD': 1.3176491797}  2019-12-01  USD  2020-04-30\n",
      "..          ...                    ...         ...  ...         ...\n",
      "99   2020-04-24  {'CAD': 1.4049074074}  2019-12-01  USD  2020-04-30\n",
      "100  2020-04-27  {'CAD': 1.4057316624}  2019-12-01  USD  2020-04-30\n",
      "101  2020-04-28  {'CAD': 1.3955134688}  2019-12-01  USD  2020-04-30\n",
      "102  2020-04-29  {'CAD': 1.3954067515}  2019-12-01  USD  2020-04-30\n",
      "103  2020-04-30  {'CAD': 1.3862633321}  2019-12-01  USD  2020-04-30\n",
      "\n",
      "[104 rows x 5 columns]\n"
     ]
    }
   ],
   "source": [
    "#Convert API exchange rates to dataframe \n",
    "\n",
    "df2 = pd.DataFrame(price_list)\n",
    "df2 = df2.reset_index()\n",
    "print(df2)"
   ]
  },
  {
   "cell_type": "code",
   "execution_count": 8,
   "metadata": {},
   "outputs": [
    {
     "name": "stdout",
     "output_type": "stream",
     "text": [
      "        rates order_created_at\n",
      "0    1.329584       2019-12-02\n",
      "1    1.332039       2019-12-03\n",
      "2    1.327227       2019-12-04\n",
      "3    1.316928       2019-12-05\n",
      "4    1.317649       2019-12-06\n",
      "..        ...              ...\n",
      "99   1.404907       2020-04-24\n",
      "100  1.405732       2020-04-27\n",
      "101  1.395513       2020-04-28\n",
      "102  1.395407       2020-04-29\n",
      "103  1.386263       2020-04-30\n",
      "\n",
      "[104 rows x 2 columns]\n",
      "rates                      float64\n",
      "order_created_at    datetime64[ns]\n",
      "dtype: object\n"
     ]
    }
   ],
   "source": [
    "# Clean the rates dataframe and remove unnecssary information\n",
    "\n",
    "df2['rates']= df2['rates'].astype(str)\n",
    "df2['rates'] = df2['rates'].map(lambda x: x.lstrip(\"{'CAD':}\").rstrip('}'))\n",
    "df2['rates']= df2['rates'].astype(float)\n",
    "df2 = df2.drop(columns=['start_at', 'base', 'end_at'])\n",
    "df2 = df2.rename(columns={\"index\": \"date\"})\n",
    "\n",
    "# Convert  date to datetime and prepare the dataframe for merging\n",
    "\n",
    "df2['order_created_at'] =  pd.to_datetime(df2['date'], format='%Y/%m/%d')\n",
    "df2 = df2.drop(columns=['date'])\n",
    "print(df2)\n",
    "print(df2.dtypes)"
   ]
  },
  {
   "cell_type": "markdown",
   "metadata": {},
   "source": [
    "<b> Renamed the date column to the same name as the date column used in the Order information dataframe to make merging easier </b>"
   ]
  },
  {
   "cell_type": "markdown",
   "metadata": {},
   "source": [
    "# Merge Order data with the correct exchange rate"
   ]
  },
  {
   "cell_type": "code",
   "execution_count": 9,
   "metadata": {},
   "outputs": [],
   "source": [
    "# Create final dataframe by merging the original data with rates dataframe\n",
    "\n",
    "final_df =pd.merge(df,df2,how = 'left', on = 'order_created_at')\n",
    "final_df = final_df.sort_values('order_created_at')"
   ]
  },
  {
   "cell_type": "code",
   "execution_count": 10,
   "metadata": {},
   "outputs": [
    {
     "data": {
      "text/html": [
       "<div>\n",
       "<style scoped>\n",
       "    .dataframe tbody tr th:only-of-type {\n",
       "        vertical-align: middle;\n",
       "    }\n",
       "\n",
       "    .dataframe tbody tr th {\n",
       "        vertical-align: top;\n",
       "    }\n",
       "\n",
       "    .dataframe thead th {\n",
       "        text-align: right;\n",
       "    }\n",
       "</style>\n",
       "<table border=\"1\" class=\"dataframe\">\n",
       "  <thead>\n",
       "    <tr style=\"text-align: right;\">\n",
       "      <th></th>\n",
       "      <th>item_id</th>\n",
       "      <th>item_product_id</th>\n",
       "      <th>item_product_sku</th>\n",
       "      <th>item_product_name</th>\n",
       "      <th>item_price</th>\n",
       "      <th>order_total_price</th>\n",
       "      <th>order_created_at</th>\n",
       "      <th>order_id</th>\n",
       "      <th>order_customer.id</th>\n",
       "      <th>rates</th>\n",
       "    </tr>\n",
       "  </thead>\n",
       "  <tbody>\n",
       "    <tr>\n",
       "      <th>4</th>\n",
       "      <td>759658</td>\n",
       "      <td>573794972</td>\n",
       "      <td>SAGENSOUR-01</td>\n",
       "      <td>Sage N Sour Dried Flower</td>\n",
       "      <td>36.99</td>\n",
       "      <td>36.99</td>\n",
       "      <td>2020-01-01</td>\n",
       "      <td>7722055557038194</td>\n",
       "      <td>59933</td>\n",
       "      <td>NaN</td>\n",
       "    </tr>\n",
       "    <tr>\n",
       "      <th>28</th>\n",
       "      <td>771854</td>\n",
       "      <td>694165761</td>\n",
       "      <td>HYBTINC-03</td>\n",
       "      <td>Hybrid Blend THC Tincture</td>\n",
       "      <td>49.99</td>\n",
       "      <td>55.98</td>\n",
       "      <td>2020-01-01</td>\n",
       "      <td>5825547264855968</td>\n",
       "      <td>59933</td>\n",
       "      <td>NaN</td>\n",
       "    </tr>\n",
       "    <tr>\n",
       "      <th>29</th>\n",
       "      <td>317808</td>\n",
       "      <td>477365777</td>\n",
       "      <td>GOGPR-07</td>\n",
       "      <td>Glueberry OG Pre-Rolls</td>\n",
       "      <td>5.99</td>\n",
       "      <td>55.98</td>\n",
       "      <td>2020-01-01</td>\n",
       "      <td>5825547264855968</td>\n",
       "      <td>59933</td>\n",
       "      <td>NaN</td>\n",
       "    </tr>\n",
       "    <tr>\n",
       "      <th>25</th>\n",
       "      <td>997208</td>\n",
       "      <td>278266679</td>\n",
       "      <td>GPSTASH-01</td>\n",
       "      <td>Grandpa's Stash Dried Flower</td>\n",
       "      <td>49.99</td>\n",
       "      <td>55.98</td>\n",
       "      <td>2020-01-05</td>\n",
       "      <td>6255086600405590</td>\n",
       "      <td>94720</td>\n",
       "      <td>NaN</td>\n",
       "    </tr>\n",
       "    <tr>\n",
       "      <th>26</th>\n",
       "      <td>317808</td>\n",
       "      <td>477365777</td>\n",
       "      <td>GOGPR-07</td>\n",
       "      <td>Glueberry OG Pre-Rolls</td>\n",
       "      <td>5.99</td>\n",
       "      <td>55.98</td>\n",
       "      <td>2020-01-05</td>\n",
       "      <td>6255086600405590</td>\n",
       "      <td>94720</td>\n",
       "      <td>NaN</td>\n",
       "    </tr>\n",
       "  </tbody>\n",
       "</table>\n",
       "</div>"
      ],
      "text/plain": [
       "    item_id  item_product_id item_product_sku             item_product_name  \\\n",
       "4    759658        573794972     SAGENSOUR-01      Sage N Sour Dried Flower   \n",
       "28   771854        694165761       HYBTINC-03     Hybrid Blend THC Tincture   \n",
       "29   317808        477365777         GOGPR-07        Glueberry OG Pre-Rolls   \n",
       "25   997208        278266679       GPSTASH-01  Grandpa's Stash Dried Flower   \n",
       "26   317808        477365777         GOGPR-07        Glueberry OG Pre-Rolls   \n",
       "\n",
       "    item_price order_total_price order_created_at          order_id  \\\n",
       "4        36.99             36.99       2020-01-01  7722055557038194   \n",
       "28       49.99             55.98       2020-01-01  5825547264855968   \n",
       "29        5.99             55.98       2020-01-01  5825547264855968   \n",
       "25       49.99             55.98       2020-01-05  6255086600405590   \n",
       "26        5.99             55.98       2020-01-05  6255086600405590   \n",
       "\n",
       "   order_customer.id  rates  \n",
       "4              59933    NaN  \n",
       "28             59933    NaN  \n",
       "29             59933    NaN  \n",
       "25             94720    NaN  \n",
       "26             94720    NaN  "
      ]
     },
     "execution_count": 10,
     "metadata": {},
     "output_type": "execute_result"
    }
   ],
   "source": [
    "final_df.head()"
   ]
  },
  {
   "cell_type": "code",
   "execution_count": 11,
   "metadata": {},
   "outputs": [
    {
     "data": {
      "text/plain": [
       "[<matplotlib.lines.Line2D at 0x25d13318f88>]"
      ]
     },
     "execution_count": 11,
     "metadata": {},
     "output_type": "execute_result"
    },
    {
     "data": {
      "image/png": "[encoded data removed]",
      "text/plain": [
       "<Figure size 432x288 with 1 Axes>"
      ]
     },
     "metadata": {
      "needs_background": "light"
     },
     "output_type": "display_data"
    }
   ],
   "source": [
    "# Without imputing rates \n",
    "\n",
    "plt.figure()\n",
    "\n",
    "x = final_df['order_created_at']\n",
    "y1 = final_df['rates']\n",
    "\n",
    "\n",
    "plt.plot(x,y1)\n"
   ]
  },
  {
   "cell_type": "code",
   "execution_count": 12,
   "metadata": {},
   "outputs": [],
   "source": [
    "# Imput based on forward and backward fill.  Limits were decided based on trial and error to ensure that all orders placed on the same day have the same rate.\n",
    "\n",
    "final_df = final_df.fillna(method='ffill', limit=2)\n",
    "final_df = final_df.fillna(method='bfill', limit=7)"
   ]
  },
  {
   "cell_type": "code",
   "execution_count": 13,
   "metadata": {},
   "outputs": [
    {
     "data": {
      "text/plain": [
       "[<matplotlib.lines.Line2D at 0x25d14122f08>]"
      ]
     },
     "execution_count": 13,
     "metadata": {},
     "output_type": "execute_result"
    },
    {
     "data": {
      "image/png": "[encoded data removed]",
      "text/plain": [
       "<Figure size 432x288 with 1 Axes>"
      ]
     },
     "metadata": {
      "needs_background": "light"
     },
     "output_type": "display_data"
    }
   ],
   "source": [
    "# After filling missing rates\n",
    "\n",
    "plt.figure()\n",
    "\n",
    "x = final_df['order_created_at']\n",
    "y1 = final_df['rates']\n",
    "\n",
    "\n",
    "plt.plot(x,y1)\n"
   ]
  },
  {
   "cell_type": "code",
   "execution_count": 14,
   "metadata": {},
   "outputs": [
    {
     "data": {
      "text/plain": [
       "<bound method DataFrame.isna of     item_id  item_product_id item_product_sku              item_product_name  \\\n",
       "4    759658        573794972     SAGENSOUR-01       Sage N Sour Dried Flower   \n",
       "28   771854        694165761       HYBTINC-03      Hybrid Blend THC Tincture   \n",
       "29   317808        477365777         GOGPR-07         Glueberry OG Pre-Rolls   \n",
       "25   997208        278266679       GPSTASH-01   Grandpa's Stash Dried Flower   \n",
       "26   317808        477365777         GOGPR-07         Glueberry OG Pre-Rolls   \n",
       "22   604665        510650809            PAX-3                Pax 3 Vaporizer   \n",
       "30   610448        632910392   PPLEPUNCH20-05  Purple Punch 2.0 Dried Flower   \n",
       "36   771854        694165761       HYBTINC-03      Hybrid Blend THC Tincture   \n",
       "33   997208        278266679       GPSTASH-01   Grandpa's Stash Dried Flower   \n",
       "34   759658        573794972     SAGENSOUR-01       Sage N Sour Dried Flower   \n",
       "35   317808        477365777         GOGPR-07         Glueberry OG Pre-Rolls   \n",
       "21   317808        477365777         GOGPR-07         Glueberry OG Pre-Rolls   \n",
       "13   317808        477365777         GOGPR-07         Glueberry OG Pre-Rolls   \n",
       "14   771854        694165761       HYBTINC-03      Hybrid Blend THC Tincture   \n",
       "32   759658        573794972     SAGENSOUR-01       Sage N Sour Dried Flower   \n",
       "31   997208        278266679       GPSTASH-01   Grandpa's Stash Dried Flower   \n",
       "3    759658        573794972     SAGENSOUR-01       Sage N Sour Dried Flower   \n",
       "2    997208        278266679       GPSTASH-01   Grandpa's Stash Dried Flower   \n",
       "0    610448        632910392   PPLEPUNCH20-05  Purple Punch 2.0 Dried Flower   \n",
       "1    997208        278266679       GPSTASH-01   Grandpa's Stash Dried Flower   \n",
       "18   610448        632910392   PPLEPUNCH20-05  Purple Punch 2.0 Dried Flower   \n",
       "17   317808        477365777         GOGPR-07         Glueberry OG Pre-Rolls   \n",
       "5    317808        477365777         GOGPR-07         Glueberry OG Pre-Rolls   \n",
       "6    771854        694165761       HYBTINC-03      Hybrid Blend THC Tincture   \n",
       "9    997208        278266679       GPSTASH-01   Grandpa's Stash Dried Flower   \n",
       "10   317808        477365777         GOGPR-07         Glueberry OG Pre-Rolls   \n",
       "19   997208        278266679       GPSTASH-01   Grandpa's Stash Dried Flower   \n",
       "20   759658        573794972     SAGENSOUR-01       Sage N Sour Dried Flower   \n",
       "11   604665        510650809            PAX-3                Pax 3 Vaporizer   \n",
       "15   604665        510650809            PAX-3                Pax 3 Vaporizer   \n",
       "16   997208        278266679       GPSTASH-01   Grandpa's Stash Dried Flower   \n",
       "8    997208        278266679       GPSTASH-01   Grandpa's Stash Dried Flower   \n",
       "7    604665        510650809            PAX-3                Pax 3 Vaporizer   \n",
       "24   610448        632910392   PPLEPUNCH20-05  Purple Punch 2.0 Dried Flower   \n",
       "23   771854        694165761       HYBTINC-03      Hybrid Blend THC Tincture   \n",
       "12   759658        573794972     SAGENSOUR-01       Sage N Sour Dried Flower   \n",
       "27   759658        573794972     SAGENSOUR-01       Sage N Sour Dried Flower   \n",
       "\n",
       "    item_price  order_total_price order_created_at          order_id  \\\n",
       "4        36.99              36.99       2020-01-01  7722055557038194   \n",
       "28       49.99              55.98       2020-01-01  5825547264855968   \n",
       "29        5.99              55.98       2020-01-01  5825547264855968   \n",
       "25       49.99              55.98       2020-01-05  6255086600405590   \n",
       "26        5.99              55.98       2020-01-05  6255086600405590   \n",
       "22      259.99             259.99       2020-01-18  2366621613260728   \n",
       "30       29.40              29.40       2020-01-19  1288301820842508   \n",
       "36       49.99             142.96       2020-01-22  2212383088430312   \n",
       "33       49.99             142.96       2020-01-22  2212383088430312   \n",
       "34       36.99             142.96       2020-01-22  2212383088430312   \n",
       "35        5.99             142.96       2020-01-22  2212383088430312   \n",
       "21        5.99               5.99       2020-02-05  8662976573169716   \n",
       "13        5.99              55.98       2020-02-19  2079640804901496   \n",
       "14       49.99              55.98       2020-02-19  2079640804901496   \n",
       "32       36.99              86.98       2020-02-22  1104846479586545   \n",
       "31       49.99              86.98       2020-02-22  1104846479586545   \n",
       "3        36.99              86.98       2020-03-01  7262170348080494   \n",
       "2        49.99              86.98       2020-03-01  7262170348080494   \n",
       "0        29.40              79.39       2020-03-07  8369263756632563   \n",
       "1        49.99              79.39       2020-03-07  8369263756632563   \n",
       "18       29.40              35.39       2020-03-08  7638742701884072   \n",
       "17        5.99              35.39       2020-03-08  7638742701884072   \n",
       "5         5.99              55.98       2020-03-10  4280852170163518   \n",
       "6        49.99              55.98       2020-03-10  4280852170163518   \n",
       "9        49.99             315.97       2020-03-12  6431399815998774   \n",
       "10        5.99             315.97       2020-03-12  6431399815998774   \n",
       "19       49.99              86.98       2020-03-12  5307192536865304   \n",
       "20       36.99              86.98       2020-03-12  5307192536865304   \n",
       "11      259.99             315.97       2020-03-12  6431399815998774   \n",
       "15      259.99             309.98       2020-03-13  2249838395290890   \n",
       "16       49.99             309.98       2020-03-13  2249838395290890   \n",
       "8        49.99             309.98       2020-03-15  5058732129957127   \n",
       "7       259.99             309.98       2020-03-15  5058732129957127   \n",
       "24       29.40              79.39       2020-03-18  9786845594710809   \n",
       "23       49.99              79.39       2020-03-18  9786845594710809   \n",
       "12       36.99              36.99       2020-03-24  5791957346866373   \n",
       "27       36.99              36.99       2020-03-24  5235927587417736   \n",
       "\n",
       "    order_customer.id     rates  \n",
       "4               59933  1.304563  \n",
       "28              59933  1.304563  \n",
       "29              59933  1.304563  \n",
       "25              94720  1.304563  \n",
       "26              94720  1.304563  \n",
       "22              23955  1.304563  \n",
       "30              23955  1.304563  \n",
       "36              59933  1.304563  \n",
       "33              59933  1.304563  \n",
       "34              59933  1.304563  \n",
       "35              59933  1.304563  \n",
       "21              94720  1.328495  \n",
       "13              23955  1.322315  \n",
       "14              23955  1.322315  \n",
       "32              94720  1.322315  \n",
       "31              94720  1.322315  \n",
       "3               94720  1.367779  \n",
       "2               94720  1.367779  \n",
       "0               47178  1.367779  \n",
       "1               47178  1.367779  \n",
       "18              59933  1.367779  \n",
       "17              59933  1.367779  \n",
       "5               23955  1.367779  \n",
       "6               23955  1.367779  \n",
       "9               23955  1.381139  \n",
       "10              23955  1.381139  \n",
       "19              47178  1.381139  \n",
       "20              47178  1.381139  \n",
       "11              23955  1.381139  \n",
       "15              47178  1.385897  \n",
       "16              47178  1.385897  \n",
       "8               59933  1.385897  \n",
       "7               59933  1.385897  \n",
       "24              59933  1.440369  \n",
       "23              59933  1.440369  \n",
       "12              47178  1.449414  \n",
       "27              94720  1.449414  >"
      ]
     },
     "execution_count": 14,
     "metadata": {},
     "output_type": "execute_result"
    }
   ],
   "source": [
    "final_df.isna"
   ]
  },
  {
   "cell_type": "code",
   "execution_count": 15,
   "metadata": {},
   "outputs": [
    {
     "name": "stdout",
     "output_type": "stream",
     "text": [
      "<class 'pandas.core.frame.DataFrame'>\n",
      "Int64Index: 37 entries, 4 to 27\n",
      "Data columns (total 10 columns):\n",
      " #   Column             Non-Null Count  Dtype         \n",
      "---  ------             --------------  -----         \n",
      " 0   item_id            37 non-null     int64         \n",
      " 1   item_product_id    37 non-null     int64         \n",
      " 2   item_product_sku   37 non-null     object        \n",
      " 3   item_product_name  37 non-null     object        \n",
      " 4   item_price         37 non-null     float64       \n",
      " 5   order_total_price  37 non-null     float64       \n",
      " 6   order_created_at   37 non-null     datetime64[ns]\n",
      " 7   order_id           37 non-null     int64         \n",
      " 8   order_customer.id  37 non-null     int64         \n",
      " 9   rates              37 non-null     float64       \n",
      "dtypes: datetime64[ns](1), float64(3), int64(4), object(2)\n",
      "memory usage: 3.2+ KB\n"
     ]
    }
   ],
   "source": [
    "final_df.info()"
   ]
  },
  {
   "cell_type": "markdown",
   "metadata": {},
   "source": [
    "<b> Initially there were 17 null values for rates, that were not available based on the API date. The days when rates are missing are most likely due to weekends or bank holidays as such the best and most realistic option would be to get the closing price of the previous day. However, since order dates are spread out it would not make sense to fill all the missing rates by the last reported value. That is the reasoning behind using both the forward and backward fill method; to ensure that the rate is depicted as realistically as possible. </b>"
   ]
  },
  {
   "cell_type": "markdown",
   "metadata": {},
   "source": [
    "# Create final dataframe for export"
   ]
  },
  {
   "cell_type": "code",
   "execution_count": 16,
   "metadata": {},
   "outputs": [],
   "source": [
    "#Create a new column to have the order price in CAD and make date as index\n",
    "\n",
    "final_df['item_price_CAD'] = final_df['item_price'] * final_df['rates']\n",
    "final_df['total_CAD'] = final_df['order_total_price'] * final_df['rates']\n",
    "final_df = final_df.set_index('order_created_at')"
   ]
  },
  {
   "cell_type": "code",
   "execution_count": 17,
   "metadata": {},
   "outputs": [],
   "source": [
    "final_df = final_df.drop(columns=['item_price', 'order_total_price'])"
   ]
  },
  {
   "cell_type": "code",
   "execution_count": 23,
   "metadata": {},
   "outputs": [
    {
     "data": {
      "text/html": [
       "<div>\n",
       "<style scoped>\n",
       "    .dataframe tbody tr th:only-of-type {\n",
       "        vertical-align: middle;\n",
       "    }\n",
       "\n",
       "    .dataframe tbody tr th {\n",
       "        vertical-align: top;\n",
       "    }\n",
       "\n",
       "    .dataframe thead th {\n",
       "        text-align: right;\n",
       "    }\n",
       "</style>\n",
       "<table border=\"1\" class=\"dataframe\">\n",
       "  <thead>\n",
       "    <tr style=\"text-align: right;\">\n",
       "      <th></th>\n",
       "      <th>item_id</th>\n",
       "      <th>item_product_id</th>\n",
       "      <th>item_product_sku</th>\n",
       "      <th>item_product_name</th>\n",
       "      <th>order_id</th>\n",
       "      <th>order_customer.id</th>\n",
       "      <th>rates</th>\n",
       "      <th>item_price_CAD</th>\n",
       "      <th>total_CAD</th>\n",
       "    </tr>\n",
       "    <tr>\n",
       "      <th>order_created_at</th>\n",
       "      <th></th>\n",
       "      <th></th>\n",
       "      <th></th>\n",
       "      <th></th>\n",
       "      <th></th>\n",
       "      <th></th>\n",
       "      <th></th>\n",
       "      <th></th>\n",
       "      <th></th>\n",
       "    </tr>\n",
       "  </thead>\n",
       "  <tbody>\n",
       "    <tr>\n",
       "      <th>2020-01-18</th>\n",
       "      <td>604665</td>\n",
       "      <td>510650809</td>\n",
       "      <td>PAX-3</td>\n",
       "      <td>Pax 3 Vaporizer</td>\n",
       "      <td>2366621613260728</td>\n",
       "      <td>23955</td>\n",
       "      <td>1.304563</td>\n",
       "      <td>339.173462</td>\n",
       "      <td>339.173462</td>\n",
       "    </tr>\n",
       "    <tr>\n",
       "      <th>2020-03-12</th>\n",
       "      <td>604665</td>\n",
       "      <td>510650809</td>\n",
       "      <td>PAX-3</td>\n",
       "      <td>Pax 3 Vaporizer</td>\n",
       "      <td>6431399815998774</td>\n",
       "      <td>23955</td>\n",
       "      <td>1.381139</td>\n",
       "      <td>359.082274</td>\n",
       "      <td>436.398423</td>\n",
       "    </tr>\n",
       "    <tr>\n",
       "      <th>2020-03-13</th>\n",
       "      <td>604665</td>\n",
       "      <td>510650809</td>\n",
       "      <td>PAX-3</td>\n",
       "      <td>Pax 3 Vaporizer</td>\n",
       "      <td>2249838395290890</td>\n",
       "      <td>47178</td>\n",
       "      <td>1.385897</td>\n",
       "      <td>360.319354</td>\n",
       "      <td>429.600344</td>\n",
       "    </tr>\n",
       "    <tr>\n",
       "      <th>2020-03-15</th>\n",
       "      <td>604665</td>\n",
       "      <td>510650809</td>\n",
       "      <td>PAX-3</td>\n",
       "      <td>Pax 3 Vaporizer</td>\n",
       "      <td>5058732129957127</td>\n",
       "      <td>59933</td>\n",
       "      <td>1.385897</td>\n",
       "      <td>360.319354</td>\n",
       "      <td>429.600344</td>\n",
       "    </tr>\n",
       "  </tbody>\n",
       "</table>\n",
       "</div>"
      ],
      "text/plain": [
       "                  item_id  item_product_id item_product_sku item_product_name  \\\n",
       "order_created_at                                                                \n",
       "2020-01-18         604665        510650809            PAX-3   Pax 3 Vaporizer   \n",
       "2020-03-12         604665        510650809            PAX-3   Pax 3 Vaporizer   \n",
       "2020-03-13         604665        510650809            PAX-3   Pax 3 Vaporizer   \n",
       "2020-03-15         604665        510650809            PAX-3   Pax 3 Vaporizer   \n",
       "\n",
       "                          order_id  order_customer.id     rates  \\\n",
       "order_created_at                                                  \n",
       "2020-01-18        2366621613260728              23955  1.304563   \n",
       "2020-03-12        6431399815998774              23955  1.381139   \n",
       "2020-03-13        2249838395290890              47178  1.385897   \n",
       "2020-03-15        5058732129957127              59933  1.385897   \n",
       "\n",
       "                  item_price_CAD   total_CAD  \n",
       "order_created_at                              \n",
       "2020-01-18            339.173462  339.173462  \n",
       "2020-03-12            359.082274  436.398423  \n",
       "2020-03-13            360.319354  429.600344  \n",
       "2020-03-15            360.319354  429.600344  "
      ]
     },
     "execution_count": 23,
     "metadata": {},
     "output_type": "execute_result"
    }
   ],
   "source": [
    "final_df[final_df['item_product_name'] == 'Pax 3 Vaporizer']"
   ]
  },
  {
   "cell_type": "markdown",
   "metadata": {},
   "source": [
    "# Sanity Check"
   ]
  },
  {
   "cell_type": "code",
   "execution_count": 18,
   "metadata": {},
   "outputs": [
    {
     "data": {
      "text/html": [
       "<div>\n",
       "<style scoped>\n",
       "    .dataframe tbody tr th:only-of-type {\n",
       "        vertical-align: middle;\n",
       "    }\n",
       "\n",
       "    .dataframe tbody tr th {\n",
       "        vertical-align: top;\n",
       "    }\n",
       "\n",
       "    .dataframe thead th {\n",
       "        text-align: right;\n",
       "    }\n",
       "</style>\n",
       "<table border=\"1\" class=\"dataframe\">\n",
       "  <thead>\n",
       "    <tr style=\"text-align: right;\">\n",
       "      <th></th>\n",
       "      <th>item_id</th>\n",
       "      <th>item_product_id</th>\n",
       "      <th>item_product_sku</th>\n",
       "      <th>item_product_name</th>\n",
       "      <th>item_price</th>\n",
       "      <th>order_total_price</th>\n",
       "      <th>order_created_at</th>\n",
       "      <th>order_id</th>\n",
       "      <th>order_customer.id</th>\n",
       "    </tr>\n",
       "  </thead>\n",
       "  <tbody>\n",
       "    <tr>\n",
       "      <th>13</th>\n",
       "      <td>317808</td>\n",
       "      <td>477365777</td>\n",
       "      <td>GOGPR-07</td>\n",
       "      <td>Glueberry OG Pre-Rolls</td>\n",
       "      <td>5.99</td>\n",
       "      <td>55.98</td>\n",
       "      <td>2020-02-19</td>\n",
       "      <td>2079640804901496</td>\n",
       "      <td>23955</td>\n",
       "    </tr>\n",
       "    <tr>\n",
       "      <th>14</th>\n",
       "      <td>771854</td>\n",
       "      <td>694165761</td>\n",
       "      <td>HYBTINC-03</td>\n",
       "      <td>Hybrid Blend THC Tincture</td>\n",
       "      <td>49.99</td>\n",
       "      <td>55.98</td>\n",
       "      <td>2020-02-19</td>\n",
       "      <td>2079640804901496</td>\n",
       "      <td>23955</td>\n",
       "    </tr>\n",
       "  </tbody>\n",
       "</table>\n",
       "</div>"
      ],
      "text/plain": [
       "    item_id  item_product_id item_product_sku          item_product_name  \\\n",
       "13   317808        477365777         GOGPR-07     Glueberry OG Pre-Rolls   \n",
       "14   771854        694165761       HYBTINC-03  Hybrid Blend THC Tincture   \n",
       "\n",
       "    item_price order_total_price order_created_at          order_id  \\\n",
       "13        5.99             55.98       2020-02-19  2079640804901496   \n",
       "14       49.99             55.98       2020-02-19  2079640804901496   \n",
       "\n",
       "   order_customer.id  \n",
       "13             23955  \n",
       "14             23955  "
      ]
     },
     "execution_count": 18,
     "metadata": {},
     "output_type": "execute_result"
    }
   ],
   "source": [
    "df[df['order_created_at'].dt.date.astype(str) == '2020-02-19']"
   ]
  },
  {
   "cell_type": "code",
   "execution_count": 19,
   "metadata": {},
   "outputs": [
    {
     "data": {
      "text/html": [
       "<div>\n",
       "<style scoped>\n",
       "    .dataframe tbody tr th:only-of-type {\n",
       "        vertical-align: middle;\n",
       "    }\n",
       "\n",
       "    .dataframe tbody tr th {\n",
       "        vertical-align: top;\n",
       "    }\n",
       "\n",
       "    .dataframe thead th {\n",
       "        text-align: right;\n",
       "    }\n",
       "</style>\n",
       "<table border=\"1\" class=\"dataframe\">\n",
       "  <thead>\n",
       "    <tr style=\"text-align: right;\">\n",
       "      <th></th>\n",
       "      <th>rates</th>\n",
       "      <th>order_created_at</th>\n",
       "    </tr>\n",
       "  </thead>\n",
       "  <tbody>\n",
       "    <tr>\n",
       "      <th>54</th>\n",
       "      <td>1.322315</td>\n",
       "      <td>2020-02-19</td>\n",
       "    </tr>\n",
       "  </tbody>\n",
       "</table>\n",
       "</div>"
      ],
      "text/plain": [
       "       rates order_created_at\n",
       "54  1.322315       2020-02-19"
      ]
     },
     "execution_count": 19,
     "metadata": {},
     "output_type": "execute_result"
    }
   ],
   "source": [
    "df2[df2['order_created_at'].dt.date.astype(str) == '2020-02-19']"
   ]
  },
  {
   "cell_type": "code",
   "execution_count": 20,
   "metadata": {},
   "outputs": [
    {
     "data": {
      "text/html": [
       "<div>\n",
       "<style scoped>\n",
       "    .dataframe tbody tr th:only-of-type {\n",
       "        vertical-align: middle;\n",
       "    }\n",
       "\n",
       "    .dataframe tbody tr th {\n",
       "        vertical-align: top;\n",
       "    }\n",
       "\n",
       "    .dataframe thead th {\n",
       "        text-align: right;\n",
       "    }\n",
       "</style>\n",
       "<table border=\"1\" class=\"dataframe\">\n",
       "  <thead>\n",
       "    <tr style=\"text-align: right;\">\n",
       "      <th></th>\n",
       "      <th>item_id</th>\n",
       "      <th>item_product_id</th>\n",
       "      <th>item_product_sku</th>\n",
       "      <th>item_product_name</th>\n",
       "      <th>order_id</th>\n",
       "      <th>order_customer.id</th>\n",
       "      <th>rates</th>\n",
       "      <th>item_price_CAD</th>\n",
       "      <th>total_CAD</th>\n",
       "    </tr>\n",
       "    <tr>\n",
       "      <th>order_created_at</th>\n",
       "      <th></th>\n",
       "      <th></th>\n",
       "      <th></th>\n",
       "      <th></th>\n",
       "      <th></th>\n",
       "      <th></th>\n",
       "      <th></th>\n",
       "      <th></th>\n",
       "      <th></th>\n",
       "    </tr>\n",
       "  </thead>\n",
       "  <tbody>\n",
       "    <tr>\n",
       "      <th>2020-02-19</th>\n",
       "      <td>317808</td>\n",
       "      <td>477365777</td>\n",
       "      <td>GOGPR-07</td>\n",
       "      <td>Glueberry OG Pre-Rolls</td>\n",
       "      <td>2079640804901496</td>\n",
       "      <td>23955</td>\n",
       "      <td>1.322315</td>\n",
       "      <td>7.920666</td>\n",
       "      <td>74.023183</td>\n",
       "    </tr>\n",
       "    <tr>\n",
       "      <th>2020-02-19</th>\n",
       "      <td>771854</td>\n",
       "      <td>694165761</td>\n",
       "      <td>HYBTINC-03</td>\n",
       "      <td>Hybrid Blend THC Tincture</td>\n",
       "      <td>2079640804901496</td>\n",
       "      <td>23955</td>\n",
       "      <td>1.322315</td>\n",
       "      <td>66.102518</td>\n",
       "      <td>74.023183</td>\n",
       "    </tr>\n",
       "  </tbody>\n",
       "</table>\n",
       "</div>"
      ],
      "text/plain": [
       "                  item_id  item_product_id item_product_sku  \\\n",
       "order_created_at                                              \n",
       "2020-02-19         317808        477365777         GOGPR-07   \n",
       "2020-02-19         771854        694165761       HYBTINC-03   \n",
       "\n",
       "                          item_product_name          order_id  \\\n",
       "order_created_at                                                \n",
       "2020-02-19           Glueberry OG Pre-Rolls  2079640804901496   \n",
       "2020-02-19        Hybrid Blend THC Tincture  2079640804901496   \n",
       "\n",
       "                  order_customer.id     rates  item_price_CAD  total_CAD  \n",
       "order_created_at                                                          \n",
       "2020-02-19                    23955  1.322315        7.920666  74.023183  \n",
       "2020-02-19                    23955  1.322315       66.102518  74.023183  "
      ]
     },
     "execution_count": 20,
     "metadata": {},
     "output_type": "execute_result"
    }
   ],
   "source": [
    "final_df.loc['2020-02-15':'2020-02-20']"
   ]
  },
  {
   "cell_type": "markdown",
   "metadata": {},
   "source": [
    "<b> The above code was purely to ensure that the merge was completed succesfully, it will show how the correct rate was matched to the appropriate date </b>"
   ]
  },
  {
   "cell_type": "markdown",
   "metadata": {},
   "source": [
    "<b> The final dataset is indexed based on the order date, therefore it is important to note that there will be multiple lines for a single order. </b>"
   ]
  },
  {
   "cell_type": "markdown",
   "metadata": {},
   "source": [
    "# Export to CSV"
   ]
  },
  {
   "cell_type": "code",
   "execution_count": 21,
   "metadata": {},
   "outputs": [],
   "source": [
    "final_df.to_csv(r'C:\\Users\\irind\\Desktop\\NamasteTechnologies_DataChallenge\\task1.csv')"
   ]
  },
  {
   "cell_type": "code",
   "execution_count": null,
   "metadata": {},
   "outputs": [],
   "source": []
  }
 ],
 "metadata": {
  "kernelspec": {
   "display_name": "Python 3",
   "language": "python",
   "name": "python3"
  },
  "language_info": {
   "codemirror_mode": {
    "name": "ipython",
    "version": 3
   },
   "file_extension": ".py",
   "mimetype": "text/x-python",
   "name": "python",
   "nbconvert_exporter": "python",
   "pygments_lexer": "ipython3",
   "version": "3.7.7"
  }
 },
 "nbformat": 4,
 "nbformat_minor": 4
}
