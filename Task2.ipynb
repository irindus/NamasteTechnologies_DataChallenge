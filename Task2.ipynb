{
 "cells": [
  {
   "cell_type": "code",
   "execution_count": 2,
   "metadata": {},
   "outputs": [],
   "source": [
    "import sqlite3\n",
    "import pandas as pd"
   ]
  },
  {
   "cell_type": "code",
   "execution_count": 1,
   "metadata": {},
   "outputs": [
    {
     "name": "stdout",
     "output_type": "stream",
     "text": [
      "Database created and Successfully Connected to SQLite\n",
      "SQLite Database Version is:  [('3.31.1',)]\n",
      "The SQLite connection is closed\n"
     ]
    }
   ],
   "source": [
    "try:\n",
    "    sqliteConnection = sqlite3.connect('Namaste_Task.db')\n",
    "    cursor = sqliteConnection.cursor()\n",
    "    print(\"Database created and Successfully Connected to SQLite\")\n",
    "\n",
    "    sqlite_select_Query = \"select sqlite_version();\"\n",
    "    cursor.execute(sqlite_select_Query)\n",
    "    record = cursor.fetchall()\n",
    "    print(\"SQLite Database Version is: \", record)\n",
    "    cursor.close()\n",
    "\n",
    "except sqlite3.Error as error:\n",
    "    print(\"Error while connecting to sqlite\", error)\n",
    "finally:\n",
    "    if (sqliteConnection):\n",
    "        sqliteConnection.close()\n",
    "        print(\"The SQLite connection is closed\")"
   ]
  },
  {
   "cell_type": "code",
   "execution_count": 2,
   "metadata": {},
   "outputs": [
    {
     "name": "stdout",
     "output_type": "stream",
     "text": [
      "Successfully Connected to SQLite\n",
      "SQLite table created\n",
      "sqlite connection is closed\n"
     ]
    }
   ],
   "source": [
    "try:\n",
    "    sqliteConnection = sqlite3.connect('Namaste_Task.db')\n",
    "    sqlite_create_table_query = '''CREATE TABLE Customers (\n",
    "                                customer_id INTEGER PRIMARY KEY);'''\n",
    "\n",
    "    cursor = sqliteConnection.cursor()\n",
    "    print(\"Successfully Connected to SQLite\")\n",
    "    cursor.execute(sqlite_create_table_query)\n",
    "    sqliteConnection.commit()\n",
    "    print(\"SQLite table created\")\n",
    "\n",
    "    cursor.close()\n",
    "\n",
    "except sqlite3.Error as error:\n",
    "    print(\"Error while creating a sqlite table\", error)\n",
    "finally:\n",
    "    if (sqliteConnection):\n",
    "        sqliteConnection.close()\n",
    "        print(\"sqlite connection is closed\")"
   ]
  },
  {
   "cell_type": "code",
   "execution_count": 3,
   "metadata": {},
   "outputs": [
    {
     "name": "stdout",
     "output_type": "stream",
     "text": [
      "Successfully Connected to SQLite\n",
      "SQLite table created\n",
      "sqlite connection is closed\n"
     ]
    }
   ],
   "source": [
    "try:\n",
    "    sqliteConnection = sqlite3.connect('Namaste_Task.db')\n",
    "    sqlite_create_table_query = '''CREATE TABLE Products (\n",
    "                                product_id INTEGER PRIMARY KEY UNIQUE,\n",
    "                                line_id INTEGER,\n",
    "                                product_SKU varchar(255),\n",
    "                                product_name varchar(255),\n",
    "                                product_price MONEY);'''\n",
    "\n",
    "    cursor = sqliteConnection.cursor()\n",
    "    print(\"Successfully Connected to SQLite\")\n",
    "    cursor.execute(sqlite_create_table_query)\n",
    "    sqliteConnection.commit()\n",
    "    print(\"SQLite table created\")\n",
    "\n",
    "    cursor.close()\n",
    "\n",
    "except sqlite3.Error as error:\n",
    "    print(\"Error while creating a sqlite table\", error)\n",
    "finally:\n",
    "    if (sqliteConnection):\n",
    "        sqliteConnection.close()\n",
    "        print(\"sqlite connection is closed\")"
   ]
  },
  {
   "cell_type": "code",
   "execution_count": 2,
   "metadata": {},
   "outputs": [
    {
     "name": "stdout",
     "output_type": "stream",
     "text": [
      "Successfully Connected to SQLite\n",
      "Error while creating a sqlite table table Orders already exists\n",
      "sqlite connection is closed\n"
     ]
    }
   ],
   "source": [
    "try:\n",
    "    sqliteConnection = sqlite3.connect('Namaste_Task.db')\n",
    "    sqlite_create_table_query = '''CREATE TABLE Orders (\n",
    "                                Order_ID INTEGER PRIMARY KEY UNIQUE,\n",
    "                                Order_date DATE,\n",
    "                                customer_id INTEGER,\n",
    "                                product_id INTEGER,\n",
    "                                order_total MONEY);'''\n",
    "\n",
    "    cursor = sqliteConnection.cursor()\n",
    "    print(\"Successfully Connected to SQLite\")\n",
    "    cursor.execute(sqlite_create_table_query)\n",
    "    sqliteConnection.commit()\n",
    "    print(\"SQLite table created\")\n",
    "\n",
    "    cursor.close()\n",
    "\n",
    "except sqlite3.Error as error:\n",
    "    print(\"Error while creating a sqlite table\", error)\n",
    "finally:\n",
    "    if (sqliteConnection):\n",
    "        sqliteConnection.close()\n",
    "        print(\"sqlite connection is closed\")"
   ]
  },
  {
   "cell_type": "code",
   "execution_count": 5,
   "metadata": {},
   "outputs": [
    {
     "name": "stdout",
     "output_type": "stream",
     "text": [
      "Connected to SQLite\n",
      "Record Updated successfully \n",
      "The SQLite connection is closed\n"
     ]
    }
   ],
   "source": [
    "def alterSqliteTable():\n",
    "    try:\n",
    "        sqliteConnection = sqlite3.connect('Namaste_Task.db')\n",
    "        cursor = sqliteConnection.cursor()\n",
    "        print(\"Connected to SQLite\")\n",
    "\n",
    "        sql_alter_query = \"\"\"ALTER TABLE Orders \n",
    "                            ADD Rates DECIMAL\"\"\"\n",
    "        cursor.execute(sql_alter_query)\n",
    "        sqliteConnection.commit()\n",
    "        print(\"Record Updated successfully \")\n",
    "        cursor.close()\n",
    "\n",
    "    except sqlite3.Error as error:\n",
    "        print(\"Failed to update sqlite table\", error)\n",
    "    finally:\n",
    "        if (sqliteConnection):\n",
    "            sqliteConnection.close()\n",
    "            print(\"The SQLite connection is closed\")\n",
    "\n",
    "alterSqliteTable()"
   ]
  },
  {
   "cell_type": "markdown",
   "metadata": {},
   "source": [
    "# Import CSV from Task I"
   ]
  },
  {
   "cell_type": "code",
   "execution_count": 3,
   "metadata": {},
   "outputs": [],
   "source": [
    "df = pd.read_csv(\"task1.csv\")"
   ]
  },
  {
   "cell_type": "code",
   "execution_count": 6,
   "metadata": {},
   "outputs": [],
   "source": [
    "unique_customer = df.drop_duplicates(subset = ['order_customer.id'])\n",
    "\n",
    "\n",
    "cols = [6]\n",
    "customerdf = unique_customer[unique_customer.columns[cols]]\n",
    "customerdf.columns = ['customer_id']"
   ]
  },
  {
   "cell_type": "code",
   "execution_count": 7,
   "metadata": {},
   "outputs": [
    {
     "name": "stdout",
     "output_type": "stream",
     "text": [
      "(59933,)\n",
      "(94720,)\n",
      "(23955,)\n",
      "(47178,)\n"
     ]
    }
   ],
   "source": [
    "conn = sqlite3.connect('Namaste_Task.db')\n",
    "c = conn.cursor()\n",
    "\n",
    "customerdf.to_sql('Customers', conn, if_exists='replace', index = False)\n",
    " \n",
    "c.execute('''  \n",
    "SELECT * FROM Customers\n",
    "          ''')\n",
    "\n",
    "for row in c.fetchall():\n",
    "    print (row)"
   ]
  },
  {
   "cell_type": "code",
   "execution_count": 8,
   "metadata": {},
   "outputs": [
    {
     "data": {
      "text/html": [
       "<div>\n",
       "<style scoped>\n",
       "    .dataframe tbody tr th:only-of-type {\n",
       "        vertical-align: middle;\n",
       "    }\n",
       "\n",
       "    .dataframe tbody tr th {\n",
       "        vertical-align: top;\n",
       "    }\n",
       "\n",
       "    .dataframe thead th {\n",
       "        text-align: right;\n",
       "    }\n",
       "</style>\n",
       "<table border=\"1\" class=\"dataframe\">\n",
       "  <thead>\n",
       "    <tr style=\"text-align: right;\">\n",
       "      <th></th>\n",
       "      <th>product_id</th>\n",
       "      <th>line_id</th>\n",
       "      <th>product_SKU</th>\n",
       "      <th>product_name</th>\n",
       "      <th>product_price</th>\n",
       "    </tr>\n",
       "  </thead>\n",
       "  <tbody>\n",
       "    <tr>\n",
       "      <th>0</th>\n",
       "      <td>573794972</td>\n",
       "      <td>759658</td>\n",
       "      <td>SAGENSOUR-01</td>\n",
       "      <td>Sage N Sour Dried Flower</td>\n",
       "      <td>48.255804</td>\n",
       "    </tr>\n",
       "    <tr>\n",
       "      <th>1</th>\n",
       "      <td>694165761</td>\n",
       "      <td>771854</td>\n",
       "      <td>HYBTINC-03</td>\n",
       "      <td>Hybrid Blend THC Tincture</td>\n",
       "      <td>65.215129</td>\n",
       "    </tr>\n",
       "    <tr>\n",
       "      <th>2</th>\n",
       "      <td>477365777</td>\n",
       "      <td>317808</td>\n",
       "      <td>GOGPR-07</td>\n",
       "      <td>Glueberry OG Pre-Rolls</td>\n",
       "      <td>7.814335</td>\n",
       "    </tr>\n",
       "    <tr>\n",
       "      <th>3</th>\n",
       "      <td>278266679</td>\n",
       "      <td>997208</td>\n",
       "      <td>GPSTASH-01</td>\n",
       "      <td>Grandpa's Stash Dried Flower</td>\n",
       "      <td>65.215129</td>\n",
       "    </tr>\n",
       "    <tr>\n",
       "      <th>5</th>\n",
       "      <td>510650809</td>\n",
       "      <td>604665</td>\n",
       "      <td>PAX-3</td>\n",
       "      <td>Pax 3 Vaporizer</td>\n",
       "      <td>339.173462</td>\n",
       "    </tr>\n",
       "  </tbody>\n",
       "</table>\n",
       "</div>"
      ],
      "text/plain": [
       "   product_id  line_id   product_SKU                  product_name  \\\n",
       "0   573794972   759658  SAGENSOUR-01      Sage N Sour Dried Flower   \n",
       "1   694165761   771854    HYBTINC-03     Hybrid Blend THC Tincture   \n",
       "2   477365777   317808      GOGPR-07        Glueberry OG Pre-Rolls   \n",
       "3   278266679   997208    GPSTASH-01  Grandpa's Stash Dried Flower   \n",
       "5   510650809   604665         PAX-3               Pax 3 Vaporizer   \n",
       "\n",
       "   product_price  \n",
       "0      48.255804  \n",
       "1      65.215129  \n",
       "2       7.814335  \n",
       "3      65.215129  \n",
       "5     339.173462  "
      ]
     },
     "execution_count": 8,
     "metadata": {},
     "output_type": "execute_result"
    }
   ],
   "source": [
    "unique_prods = df.drop_duplicates(subset = ['item_product_id'])\n",
    "cols = [2,1,3,4,8]\n",
    "productsdf = unique_prods[unique_prods.columns[cols]]\n",
    "productsdf.columns = ['product_id','line_id','product_SKU','product_name','product_price']\n",
    "productsdf.head()"
   ]
  },
  {
   "cell_type": "code",
   "execution_count": 9,
   "metadata": {},
   "outputs": [
    {
     "name": "stdout",
     "output_type": "stream",
     "text": [
      "(573794972, 759658, 'SAGENSOUR-01', 'Sage N Sour Dried Flower', 48.255803572778994)\n",
      "(694165761, 771854, 'HYBTINC-03', 'Hybrid Blend THC Tincture', 65.21512897007901)\n",
      "(477365777, 317808, 'GOGPR-07', 'Glueberry OG Pre-Rolls', 7.814335317679)\n",
      "(278266679, 997208, 'GPSTASH-01', \"Grandpa's Stash Dried Flower\", 65.21512897007901)\n",
      "(510650809, 604665, 'PAX-3', 'Pax 3 Vaporizer', 339.173462311079)\n",
      "(632910392, 610448, 'PPLEPUNCH20-05', 'Purple Punch 2.0 Dried Flower', 38.35416666774)\n"
     ]
    }
   ],
   "source": [
    "conn = sqlite3.connect('Namaste_Task.db')\n",
    "c = conn.cursor()\n",
    "\n",
    "productsdf.to_sql('Products', conn, if_exists='replace', index = False)\n",
    " \n",
    "c.execute('''  \n",
    "SELECT * FROM Products\n",
    "          ''')\n",
    "\n",
    "for row in c.fetchall():\n",
    "    print (row)"
   ]
  },
  {
   "cell_type": "code",
   "execution_count": 10,
   "metadata": {},
   "outputs": [
    {
     "data": {
      "text/html": [
       "<div>\n",
       "<style scoped>\n",
       "    .dataframe tbody tr th:only-of-type {\n",
       "        vertical-align: middle;\n",
       "    }\n",
       "\n",
       "    .dataframe tbody tr th {\n",
       "        vertical-align: top;\n",
       "    }\n",
       "\n",
       "    .dataframe thead th {\n",
       "        text-align: right;\n",
       "    }\n",
       "</style>\n",
       "<table border=\"1\" class=\"dataframe\">\n",
       "  <thead>\n",
       "    <tr style=\"text-align: right;\">\n",
       "      <th></th>\n",
       "      <th>Order_ID</th>\n",
       "      <th>Order_date</th>\n",
       "      <th>customer_id</th>\n",
       "      <th>product_id</th>\n",
       "      <th>Rates</th>\n",
       "      <th>order_total</th>\n",
       "    </tr>\n",
       "  </thead>\n",
       "  <tbody>\n",
       "    <tr>\n",
       "      <th>0</th>\n",
       "      <td>7722055557038194</td>\n",
       "      <td>2020-01-01</td>\n",
       "      <td>59933</td>\n",
       "      <td>573794972</td>\n",
       "      <td>1.304563</td>\n",
       "      <td>48.255804</td>\n",
       "    </tr>\n",
       "    <tr>\n",
       "      <th>1</th>\n",
       "      <td>5825547264855968</td>\n",
       "      <td>2020-01-01</td>\n",
       "      <td>59933</td>\n",
       "      <td>694165761</td>\n",
       "      <td>1.304563</td>\n",
       "      <td>73.029464</td>\n",
       "    </tr>\n",
       "    <tr>\n",
       "      <th>2</th>\n",
       "      <td>5825547264855968</td>\n",
       "      <td>2020-01-01</td>\n",
       "      <td>59933</td>\n",
       "      <td>477365777</td>\n",
       "      <td>1.304563</td>\n",
       "      <td>73.029464</td>\n",
       "    </tr>\n",
       "    <tr>\n",
       "      <th>3</th>\n",
       "      <td>6255086600405590</td>\n",
       "      <td>2020-01-05</td>\n",
       "      <td>94720</td>\n",
       "      <td>278266679</td>\n",
       "      <td>1.304563</td>\n",
       "      <td>73.029464</td>\n",
       "    </tr>\n",
       "    <tr>\n",
       "      <th>4</th>\n",
       "      <td>6255086600405590</td>\n",
       "      <td>2020-01-05</td>\n",
       "      <td>94720</td>\n",
       "      <td>477365777</td>\n",
       "      <td>1.304563</td>\n",
       "      <td>73.029464</td>\n",
       "    </tr>\n",
       "    <tr>\n",
       "      <th>5</th>\n",
       "      <td>2366621613260728</td>\n",
       "      <td>2020-01-18</td>\n",
       "      <td>23955</td>\n",
       "      <td>510650809</td>\n",
       "      <td>1.304563</td>\n",
       "      <td>339.173462</td>\n",
       "    </tr>\n",
       "    <tr>\n",
       "      <th>6</th>\n",
       "      <td>1288301820842508</td>\n",
       "      <td>2020-01-19</td>\n",
       "      <td>23955</td>\n",
       "      <td>632910392</td>\n",
       "      <td>1.304563</td>\n",
       "      <td>38.354167</td>\n",
       "    </tr>\n",
       "    <tr>\n",
       "      <th>7</th>\n",
       "      <td>2212383088430312</td>\n",
       "      <td>2020-01-22</td>\n",
       "      <td>59933</td>\n",
       "      <td>694165761</td>\n",
       "      <td>1.304563</td>\n",
       "      <td>186.500397</td>\n",
       "    </tr>\n",
       "    <tr>\n",
       "      <th>8</th>\n",
       "      <td>2212383088430312</td>\n",
       "      <td>2020-01-22</td>\n",
       "      <td>59933</td>\n",
       "      <td>278266679</td>\n",
       "      <td>1.304563</td>\n",
       "      <td>186.500397</td>\n",
       "    </tr>\n",
       "    <tr>\n",
       "      <th>9</th>\n",
       "      <td>2212383088430312</td>\n",
       "      <td>2020-01-22</td>\n",
       "      <td>59933</td>\n",
       "      <td>573794972</td>\n",
       "      <td>1.304563</td>\n",
       "      <td>186.500397</td>\n",
       "    </tr>\n",
       "  </tbody>\n",
       "</table>\n",
       "</div>"
      ],
      "text/plain": [
       "           Order_ID  Order_date  customer_id  product_id     Rates  \\\n",
       "0  7722055557038194  2020-01-01        59933   573794972  1.304563   \n",
       "1  5825547264855968  2020-01-01        59933   694165761  1.304563   \n",
       "2  5825547264855968  2020-01-01        59933   477365777  1.304563   \n",
       "3  6255086600405590  2020-01-05        94720   278266679  1.304563   \n",
       "4  6255086600405590  2020-01-05        94720   477365777  1.304563   \n",
       "5  2366621613260728  2020-01-18        23955   510650809  1.304563   \n",
       "6  1288301820842508  2020-01-19        23955   632910392  1.304563   \n",
       "7  2212383088430312  2020-01-22        59933   694165761  1.304563   \n",
       "8  2212383088430312  2020-01-22        59933   278266679  1.304563   \n",
       "9  2212383088430312  2020-01-22        59933   573794972  1.304563   \n",
       "\n",
       "   order_total  \n",
       "0    48.255804  \n",
       "1    73.029464  \n",
       "2    73.029464  \n",
       "3    73.029464  \n",
       "4    73.029464  \n",
       "5   339.173462  \n",
       "6    38.354167  \n",
       "7   186.500397  \n",
       "8   186.500397  \n",
       "9   186.500397  "
      ]
     },
     "execution_count": 10,
     "metadata": {},
     "output_type": "execute_result"
    }
   ],
   "source": [
    "cols = [5,0,6,2,7,9]\n",
    "ordersdf = df[df.columns[cols]]\n",
    "ordersdf.columns = ['Order_ID','Order_date','customer_id','product_id','Rates','order_total']\n",
    "ordersdf.head(10)"
   ]
  },
  {
   "cell_type": "code",
   "execution_count": 11,
   "metadata": {},
   "outputs": [
    {
     "name": "stdout",
     "output_type": "stream",
     "text": [
      "(7722055557038194, '2020-01-01', 59933, 573794972, 1.3045634921, 48.255803572778994)\n",
      "(5825547264855968, '2020-01-01', 59933, 694165761, 1.3045634921, 73.02946428775799)\n",
      "(5825547264855968, '2020-01-01', 59933, 477365777, 1.3045634921, 73.02946428775799)\n",
      "(6255086600405590, '2020-01-05', 94720, 278266679, 1.3045634921, 73.02946428775799)\n",
      "(6255086600405590, '2020-01-05', 94720, 477365777, 1.3045634921, 73.02946428775799)\n",
      "(2366621613260728, '2020-01-18', 23955, 510650809, 1.3045634921, 339.173462311079)\n",
      "(1288301820842508, '2020-01-19', 23955, 632910392, 1.3045634921, 38.35416666774)\n",
      "(2212383088430312, '2020-01-22', 59933, 694165761, 1.3045634921, 186.50039683061598)\n",
      "(2212383088430312, '2020-01-22', 59933, 278266679, 1.3045634921, 186.50039683061598)\n",
      "(2212383088430312, '2020-01-22', 59933, 573794972, 1.3045634921, 186.50039683061598)\n",
      "(2212383088430312, '2020-01-22', 59933, 477365777, 1.3045634921, 186.50039683061598)\n",
      "(8662976573169716, '2020-02-05', 94720, 477365777, 1.3284949651, 7.957684840949)\n",
      "(2079640804901496, '2020-02-19', 23955, 477365777, 1.3223148148000001, 74.02318333250399)\n",
      "(2079640804901496, '2020-02-19', 23955, 694165761, 1.3223148148000001, 74.02318333250399)\n",
      "(1104846479586545, '2020-02-22', 94720, 573794972, 1.3223148148000001, 115.01494259130399)\n",
      "(1104846479586545, '2020-02-22', 94720, 278266679, 1.3223148148000001, 115.01494259130399)\n",
      "(7262170348080494, '2020-03-01', 94720, 573794972, 1.3677787533, 118.969395962034)\n",
      "(7262170348080494, '2020-03-01', 94720, 278266679, 1.3677787533, 118.969395962034)\n",
      "(8369263756632563, '2020-03-07', 47178, 632910392, 1.3677787533, 108.587955224487)\n",
      "(8369263756632563, '2020-03-07', 47178, 278266679, 1.3677787533, 108.587955224487)\n",
      "(7638742701884072, '2020-03-08', 59933, 632910392, 1.3677787533, 48.405690079287005)\n",
      "(7638742701884072, '2020-03-08', 59933, 477365777, 1.3677787533, 48.405690079287005)\n",
      "(4280852170163518, '2020-03-10', 23955, 477365777, 1.3677787533, 76.568254609734)\n",
      "(4280852170163518, '2020-03-10', 23955, 694165761, 1.3677787533, 76.568254609734)\n",
      "(6431399815998774, '2020-03-12', 23955, 278266679, 1.38113879, 436.39842347630014)\n",
      "(6431399815998774, '2020-03-12', 23955, 477365777, 1.38113879, 436.39842347630014)\n",
      "(5307192536865304, '2020-03-12', 47178, 278266679, 1.38113879, 120.13145195420002)\n",
      "(5307192536865304, '2020-03-12', 47178, 573794972, 1.38113879, 120.13145195420002)\n",
      "(6431399815998774, '2020-03-12', 23955, 510650809, 1.38113879, 436.39842347630014)\n",
      "(2249838395290890, '2020-03-13', 47178, 510650809, 1.3858969741, 429.60034403151803)\n",
      "(2249838395290890, '2020-03-13', 47178, 278266679, 1.3858969741, 429.60034403151803)\n",
      "(5058732129957127, '2020-03-15', 59933, 278266679, 1.3858969741, 429.60034403151803)\n",
      "(5058732129957127, '2020-03-15', 59933, 510650809, 1.3858969741, 429.60034403151803)\n",
      "(9786845594710809, '2020-03-18', 59933, 632910392, 1.4403694897, 114.350933787283)\n",
      "(9786845594710809, '2020-03-18', 59933, 694165761, 1.4403694897, 114.350933787283)\n",
      "(5791957346866373, '2020-03-24', 47178, 573794972, 1.4494143687, 53.613837498213)\n",
      "(5235927587417736, '2020-03-24', 94720, 573794972, 1.4494143687, 53.613837498213)\n"
     ]
    }
   ],
   "source": [
    "conn = sqlite3.connect('Namaste_Task.db')\n",
    "c = conn.cursor()\n",
    "\n",
    "ordersdf.to_sql('Orders', conn, if_exists='replace', index = False)\n",
    " \n",
    "c.execute('''  \n",
    "SELECT * FROM Orders\n",
    "          ''')\n",
    "\n",
    "for row in c.fetchall():\n",
    "    print (row)"
   ]
  },
  {
   "cell_type": "code",
   "execution_count": null,
   "metadata": {},
   "outputs": [],
   "source": []
  },
  {
   "cell_type": "code",
   "execution_count": null,
   "metadata": {},
   "outputs": [],
   "source": []
  }
 ],
 "metadata": {
  "kernelspec": {
   "display_name": "Python 3",
   "language": "python",
   "name": "python3"
  },
  "language_info": {
   "codemirror_mode": {
    "name": "ipython",
    "version": 3
   },
   "file_extension": ".py",
   "mimetype": "text/x-python",
   "name": "python",
   "nbconvert_exporter": "python",
   "pygments_lexer": "ipython3",
   "version": "3.7.7"
  }
 },
 "nbformat": 4,
 "nbformat_minor": 4
}
